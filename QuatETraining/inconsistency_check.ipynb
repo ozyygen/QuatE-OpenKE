{
  "nbformat": 4,
  "nbformat_minor": 0,
  "metadata": {
    "colab": {
      "provenance": [],
      "gpuType": "T4"
    },
    "kernelspec": {
      "name": "python3",
      "display_name": "Python 3.7.0 64-bit",
      "metadata": {
        "interpreter": {
          "hash": "aee8b7b246df8f9039afb4144a1f6fd8d2ca17a180786b69acc140d282b71a49"
        }
      }
    },
    "language_info": {
      "name": "python",
      "version": "3.7.0-final"
    },
    "accelerator": "GPU"
  },
  "cells": [
    {
      "cell_type": "code",
      "source": [
        "!pip install rdflib"
      ],
      "metadata": {
        "colab": {
          "base_uri": "https://localhost:8080/"
        },
        "id": "UxJxyT_NMEaA",
        "outputId": "c97a20bd-6c5d-4e83-d9aa-d5a79c4225a8"
      },
      "execution_count": 1,
      "outputs": [
        {
          "output_type": "stream",
          "name": "stdout",
          "text": [
            "Requirement already satisfied: rdflib in /Users/ozgeerten/miniconda3/lib/python3.9/site-packages (6.2.0)\nRequirement already satisfied: isodate in /Users/ozgeerten/miniconda3/lib/python3.9/site-packages (from rdflib) (0.6.1)\nRequirement already satisfied: setuptools in /Users/ozgeerten/miniconda3/lib/python3.9/site-packages (from rdflib) (52.0.0.post20210125)\nRequirement already satisfied: pyparsing in /Users/ozgeerten/miniconda3/lib/python3.9/site-packages (from rdflib) (3.0.9)\nRequirement already satisfied: six in /Users/ozgeerten/miniconda3/lib/python3.9/site-packages (from isodate->rdflib) (1.16.0)\n"
          ]
        }
      ]
    },
    {
      "cell_type": "code",
      "execution_count": 2,
      "metadata": {},
      "outputs": [
        {
          "output_type": "stream",
          "name": "stdout",
          "text": [
            "Requirement already satisfied: scikit-learn in /Users/ozgeerten/miniconda3/lib/python3.9/site-packages (1.3.0)\n",
            "Requirement already satisfied: scipy>=1.5.0 in /Users/ozgeerten/miniconda3/lib/python3.9/site-packages (from scikit-learn) (1.11.1)\n",
            "Requirement already satisfied: threadpoolctl>=2.0.0 in /Users/ozgeerten/miniconda3/lib/python3.9/site-packages (from scikit-learn) (3.2.0)\n",
            "Requirement already satisfied: numpy>=1.17.3 in /Users/ozgeerten/miniconda3/lib/python3.9/site-packages (from scikit-learn) (1.22.3)\n",
            "Requirement already satisfied: joblib>=1.1.1 in /Users/ozgeerten/miniconda3/lib/python3.9/site-packages (from scikit-learn) (1.3.2)\n"
          ]
        }
      ],
      "source": [
        "!pip install scikit-learn"
      ]
    },
    {
      "cell_type": "code",
      "source": [
        "#for colab\n",
        "# !git clone -b OpenKE-PyTorch https://github.com/ozyygen/QuatEOpenKE.git --depth 1"
      ],
      "metadata": {
        "colab": {
          "base_uri": "https://localhost:8080/"
        },
        "id": "qQntniJtXUdx",
        "outputId": "4494f52b-6cca-4df9-84cf-60cda7e87439"
      },
      "execution_count": 24,
      "outputs": []
    },
    {
      "cell_type": "code",
      "execution_count": 5,
      "metadata": {
        "id": "okWsVzmvWxzM"
      },
      "outputs": [],
      "source": [
        "import  pandas as pd\n",
        "import rdflib\n",
        "import  numpy as np\n",
        "import utils"
      ]
    },
    {
      "cell_type": "markdown",
      "source": [
        "# Storing KG as a DataFrame**"
      ],
      "metadata": {
        "id": "OyUodQ2U1fnT"
      }
    },
    {
      "cell_type": "code",
      "source": [
        "df_cs = utils.load_ttl_files(\"results-9.ttl\")"
      ],
      "metadata": {
        "id": "8Lw4-xjjaRcd"
      },
      "execution_count": 6,
      "outputs": []
    },
    {
      "cell_type": "markdown",
      "source": [
        "# Inconsistency checks\n",
        "\n",
        "Inconsistent connections will be defined and the links will be removed to prepare KG to the next link prediction step. After the link predicition, we expect to see the new links that persist consistency within the hierarchy."
      ],
      "metadata": {
        "id": "sLq1NIdL_OAs"
      }
    },
    {
      "cell_type": "markdown",
      "source": [
        "**1. Inconsistency Detection**"
      ],
      "metadata": {
        "id": "U1OjtUUM1uJi"
      }
    },
    {
      "cell_type": "markdown",
      "source": [
        "1. Clashes between associative links and hierarchical links:\n",
        "\n",
        "skos:related is a symmetric property, and skos:broaderTransitive and skos:narrowerTransitive are inverses, skos:related is therefore also disjoint with skos:narrowerTransitive:\n",
        "\n",
        "\n",
        "\n",
        "> **¬∃s, o : skos:related(s, o) ∧ skos:broader(s, o)**\n",
        "\n",
        "\n",
        "\n",
        "- Example:  \n",
        "            <ConceptA> skos:broader <ConceptB> ;\n",
        "            skos:related <ConceptB> .\n",
        "\n",
        "In the example above, the hierarchy is not consistent with the SKOS data model, because there is a clash between associative links and hierarchical links."
      ],
      "metadata": {
        "id": "Wje9WIlIaEKz"
      }
    },
    {
      "cell_type": "code",
      "source": [
        "updated_kg, negative_test_df = utils.has_hierarcy_associative_clash(df_cs)\n",
        "updated_kg.info()\n",
        "#inconsistent triples -> into the test set\n",
        "#negative sampling creation -> by considering the inconsistency constraint\n",
        "#research questions??"
      ],
      "metadata": {
        "id": "_loboLYXDhHj",
        "colab": {
          "base_uri": "https://localhost:8080/"
        },
        "outputId": "839fdb9e-805d-41ea-9bd4-8f4c693486e9"
      },
      "execution_count": 7,
      "outputs": [
        {
          "output_type": "stream",
          "name": "stdout",
          "text": [
            "<class 'pandas.core.frame.DataFrame'>\nRangeIndex: 9300 entries, 0 to 9299\nData columns (total 3 columns):\n #   Column  Non-Null Count  Dtype \n---  ------  --------------  ----- \n 0   s       9300 non-null   object\n 1   p       9300 non-null   object\n 2   o       9300 non-null   object\ndtypes: object(3)\nmemory usage: 218.1+ KB\n"
          ]
        }
      ]
    },
    {
      "cell_type": "code",
      "source": [
        "negative_test_df.info()"
      ],
      "metadata": {
        "colab": {
          "base_uri": "https://localhost:8080/"
        },
        "id": "Yq0sBTR651Bg",
        "outputId": "1ae0b48a-33bc-41e8-acca-1d4f89ec35f1"
      },
      "execution_count": 8,
      "outputs": [
        {
          "output_type": "stream",
          "name": "stdout",
          "text": [
            "<class 'pandas.core.frame.DataFrame'>\nRangeIndex: 56 entries, 0 to 55\nData columns (total 3 columns):\n #   Column  Non-Null Count  Dtype \n---  ------  --------------  ----- \n 0   s       56 non-null     object\n 1   p       56 non-null     object\n 2   o       56 non-null     object\ndtypes: object(3)\nmemory usage: 1.4+ KB\n"
          ]
        }
      ]
    },
    {
      "cell_type": "markdown",
      "source": [
        "# Dataset Creation\n",
        "---\n",
        "\n",
        "\n"
      ],
      "metadata": {
        "id": "RSPAFmHWfzeg"
      }
    },
    {
      "cell_type": "markdown",
      "source": [
        "1. Train, test and valid sets\n",
        "\n",
        "Train set is enhanced by True path rule and inverse relation data augmentation. + constraint aware negative sampling\n",
        "\n",
        "Inverse relations will be added such as < teacher teachTo student > inverse is < student learnBy teacher >"
      ],
      "metadata": {
        "id": "80lyv78I15Tw"
      }
    },
    {
      "cell_type": "code",
      "source": [
        "df_train, df_valid, df_test = utils.split_dataset(updated_kg)\n",
        "df_test. append(negative_test_df, ignore_index=True)"
      ],
      "metadata": {
        "id": "zdbwh6OHnYiY",
        "colab": {
          "base_uri": "https://localhost:8080/",
          "height": 517
        },
        "outputId": "236eb8c9-cdcb-42df-f978-aebc37aac6c0"
      },
      "execution_count": 10,
      "outputs": [
        {
          "output_type": "execute_result",
          "data": {
            "text/plain": [
              "                                               s  \\\n",
              "0      https://semopenalex.org/concept/C46681722   \n",
              "1      https://semopenalex.org/concept/C35390924   \n",
              "2    https://semopenalex.org/concept/C2776825360   \n",
              "3      https://semopenalex.org/concept/C41008148   \n",
              "4     https://semopenalex.org/concept/C106365562   \n",
              "..                                           ...   \n",
              "981   https://semopenalex.org/concept/C154945302   \n",
              "982    https://semopenalex.org/concept/C41008148   \n",
              "983    https://semopenalex.org/concept/C49774154   \n",
              "984    https://semopenalex.org/concept/C41008148   \n",
              "985   https://semopenalex.org/concept/C161191863   \n",
              "\n",
              "                                               p  \\\n",
              "0    http://www.w3.org/2004/02/skos/core#broader   \n",
              "1    http://www.w3.org/2004/02/skos/core#broader   \n",
              "2    http://www.w3.org/2004/02/skos/core#broader   \n",
              "3    http://www.w3.org/2004/02/skos/core#related   \n",
              "4    http://www.w3.org/2004/02/skos/core#broader   \n",
              "..                                           ...   \n",
              "981  http://www.w3.org/2004/02/skos/core#broader   \n",
              "982  http://www.w3.org/2004/02/skos/core#related   \n",
              "983  http://www.w3.org/2004/02/skos/core#broader   \n",
              "984  http://www.w3.org/2004/02/skos/core#related   \n",
              "985  http://www.w3.org/2004/02/skos/core#broader   \n",
              "\n",
              "                                              o  \n",
              "0     https://semopenalex.org/concept/C41008148  \n",
              "1     https://semopenalex.org/concept/C41008148  \n",
              "2     https://semopenalex.org/concept/C41008148  \n",
              "3     https://semopenalex.org/concept/C37621935  \n",
              "4     https://semopenalex.org/concept/C41008148  \n",
              "..                                          ...  \n",
              "981   https://semopenalex.org/concept/C41008148  \n",
              "982   https://semopenalex.org/concept/C49774154  \n",
              "983   https://semopenalex.org/concept/C41008148  \n",
              "984  https://semopenalex.org/concept/C161191863  \n",
              "985   https://semopenalex.org/concept/C41008148  \n",
              "\n",
              "[986 rows x 3 columns]"
            ],
            "text/html": "<div>\n<style scoped>\n    .dataframe tbody tr th:only-of-type {\n        vertical-align: middle;\n    }\n\n    .dataframe tbody tr th {\n        vertical-align: top;\n    }\n\n    .dataframe thead th {\n        text-align: right;\n    }\n</style>\n<table border=\"1\" class=\"dataframe\">\n  <thead>\n    <tr style=\"text-align: right;\">\n      <th></th>\n      <th>s</th>\n      <th>p</th>\n      <th>o</th>\n    </tr>\n  </thead>\n  <tbody>\n    <tr>\n      <th>0</th>\n      <td>https://semopenalex.org/concept/C46681722</td>\n      <td>http://www.w3.org/2004/02/skos/core#broader</td>\n      <td>https://semopenalex.org/concept/C41008148</td>\n    </tr>\n    <tr>\n      <th>1</th>\n      <td>https://semopenalex.org/concept/C35390924</td>\n      <td>http://www.w3.org/2004/02/skos/core#broader</td>\n      <td>https://semopenalex.org/concept/C41008148</td>\n    </tr>\n    <tr>\n      <th>2</th>\n      <td>https://semopenalex.org/concept/C2776825360</td>\n      <td>http://www.w3.org/2004/02/skos/core#broader</td>\n      <td>https://semopenalex.org/concept/C41008148</td>\n    </tr>\n    <tr>\n      <th>3</th>\n      <td>https://semopenalex.org/concept/C41008148</td>\n      <td>http://www.w3.org/2004/02/skos/core#related</td>\n      <td>https://semopenalex.org/concept/C37621935</td>\n    </tr>\n    <tr>\n      <th>4</th>\n      <td>https://semopenalex.org/concept/C106365562</td>\n      <td>http://www.w3.org/2004/02/skos/core#broader</td>\n      <td>https://semopenalex.org/concept/C41008148</td>\n    </tr>\n    <tr>\n      <th>...</th>\n      <td>...</td>\n      <td>...</td>\n      <td>...</td>\n    </tr>\n    <tr>\n      <th>981</th>\n      <td>https://semopenalex.org/concept/C154945302</td>\n      <td>http://www.w3.org/2004/02/skos/core#broader</td>\n      <td>https://semopenalex.org/concept/C41008148</td>\n    </tr>\n    <tr>\n      <th>982</th>\n      <td>https://semopenalex.org/concept/C41008148</td>\n      <td>http://www.w3.org/2004/02/skos/core#related</td>\n      <td>https://semopenalex.org/concept/C49774154</td>\n    </tr>\n    <tr>\n      <th>983</th>\n      <td>https://semopenalex.org/concept/C49774154</td>\n      <td>http://www.w3.org/2004/02/skos/core#broader</td>\n      <td>https://semopenalex.org/concept/C41008148</td>\n    </tr>\n    <tr>\n      <th>984</th>\n      <td>https://semopenalex.org/concept/C41008148</td>\n      <td>http://www.w3.org/2004/02/skos/core#related</td>\n      <td>https://semopenalex.org/concept/C161191863</td>\n    </tr>\n    <tr>\n      <th>985</th>\n      <td>https://semopenalex.org/concept/C161191863</td>\n      <td>http://www.w3.org/2004/02/skos/core#broader</td>\n      <td>https://semopenalex.org/concept/C41008148</td>\n    </tr>\n  </tbody>\n</table>\n<p>986 rows × 3 columns</p>\n</div>"
          },
          "metadata": {},
          "execution_count": 10
        }
      ]
    },
    {
      "cell_type": "code",
      "source": [
        "e_id, r_id = utils.convert_to_id_files(updated_kg)"
      ],
      "metadata": {
        "id": "RmGq23UrvSLc"
      },
      "execution_count": 11,
      "outputs": []
    },
    {
      "cell_type": "code",
      "execution_count": 1,
      "metadata": {},
      "outputs": [
        {
          "output_type": "stream",
          "name": "stdout",
          "text": [
            "/Users/ozgeerten/Documents/GitHub/QuatEOpenKE/QuatETraining\n"
          ]
        }
      ],
      "source": [
        "!pwd"
      ]
    },
    {
      "cell_type": "code",
      "source": [
        "utils.convert_triples_to_id_files(e_id, r_id,df_train,\"train2id.txt\")\n",
        "utils.convert_triples_to_id_files(e_id, r_id,df_test,\"test2id.txt\")\n",
        "utils.convert_triples_to_id_files(e_id, r_id,df_valid,\"valid2id.txt\")"
      ],
      "metadata": {
        "id": "EhYEt1UXHAjC"
      },
      "execution_count": 12,
      "outputs": []
    },
    {
      "cell_type": "code",
      "execution_count": 14,
      "metadata": {},
      "outputs": [],
      "source": [
        "!python n-n.py"
      ]
    },
    {
      "cell_type": "code",
      "source": [
        "#TPR inferred implicit triples\n",
        "#top_2 = utils.top_2_hierarchy_triples(updated_kg)"
      ],
      "metadata": {
        "id": "qoUu9ftr17fd"
      },
      "execution_count": 10,
      "outputs": []
    },
    {
      "cell_type": "markdown",
      "source": [
        "# QuatE Implementation\n",
        "**OpenKE**"
      ],
      "metadata": {
        "id": "SUEKHecVwfrY"
      }
    },
    {
      "cell_type": "code",
      "source": [
        "!pip3 install torch torchvision"
      ],
      "metadata": {
        "id": "gkLS87dXf9VA",
        "colab": {
          "base_uri": "https://localhost:8080/"
        },
        "outputId": "ea508175-7abe-4773-f0a4-7bdd086627b9"
      },
      "execution_count": 69,
      "outputs": [
        {
          "output_type": "stream",
          "name": "stdout",
          "text": [
            "Requirement already satisfied: torch in /Users/ozgeerten/miniconda3/lib/python3.9/site-packages (2.0.1)\n",
            "Requirement already satisfied: torchvision in /Users/ozgeerten/miniconda3/lib/python3.9/site-packages (0.15.2)\n",
            "Requirement already satisfied: sympy in /Users/ozgeerten/miniconda3/lib/python3.9/site-packages (from torch) (1.12)\n",
            "Requirement already satisfied: networkx in /Users/ozgeerten/miniconda3/lib/python3.9/site-packages (from torch) (3.1)\n",
            "Requirement already satisfied: filelock in /Users/ozgeerten/miniconda3/lib/python3.9/site-packages (from torch) (3.12.2)\n",
            "Requirement already satisfied: typing-extensions in /Users/ozgeerten/miniconda3/lib/python3.9/site-packages (from torch) (4.7.1)\n",
            "Requirement already satisfied: jinja2 in /Users/ozgeerten/miniconda3/lib/python3.9/site-packages (from torch) (3.1.2)\n",
            "Requirement already satisfied: numpy in /Users/ozgeerten/miniconda3/lib/python3.9/site-packages (from torchvision) (1.22.3)\n",
            "Requirement already satisfied: pillow!=8.3.*,>=5.3.0 in /Users/ozgeerten/miniconda3/lib/python3.9/site-packages (from torchvision) (10.0.0)\n",
            "Requirement already satisfied: requests in /Users/ozgeerten/miniconda3/lib/python3.9/site-packages (from torchvision) (2.25.1)\n",
            "Requirement already satisfied: MarkupSafe>=2.0 in /Users/ozgeerten/miniconda3/lib/python3.9/site-packages (from jinja2->torch) (2.1.3)\n",
            "Requirement already satisfied: chardet<5,>=3.0.2 in /Users/ozgeerten/miniconda3/lib/python3.9/site-packages (from requests->torchvision) (4.0.0)\n",
            "Requirement already satisfied: certifi>=2017.4.17 in /Users/ozgeerten/miniconda3/lib/python3.9/site-packages (from requests->torchvision) (2021.5.30)\n",
            "Requirement already satisfied: urllib3<1.27,>=1.21.1 in /Users/ozgeerten/miniconda3/lib/python3.9/site-packages (from requests->torchvision) (1.26.6)\n",
            "Requirement already satisfied: idna<3,>=2.5 in /Users/ozgeerten/miniconda3/lib/python3.9/site-packages (from requests->torchvision) (2.10)\n",
            "Requirement already satisfied: mpmath>=0.19 in /Users/ozgeerten/miniconda3/lib/python3.9/site-packages (from sympy->torch) (1.3.0)\n"
          ]
        }
      ]
    },
    {
      "cell_type": "code",
      "source": [
        "import torch\n",
        "import os"
      ],
      "metadata": {
        "id": "BctmM643p6AT"
      },
      "execution_count": 70,
      "outputs": []
    },
    {
      "cell_type": "code",
      "source": [
        "x = torch.rand(5, 3)\n",
        "print(x)"
      ],
      "metadata": {
        "id": "vqXiUj96wnk1",
        "colab": {
          "base_uri": "https://localhost:8080/"
        },
        "outputId": "b82ac301-6c16-4364-813b-f9999e2f85bc"
      },
      "execution_count": 71,
      "outputs": [
        {
          "output_type": "stream",
          "name": "stdout",
          "text": [
            "tensor([[0.8887, 0.8050, 0.8221],\n        [0.5805, 0.5818, 0.1223],\n        [0.4709, 0.2965, 0.2407],\n        [0.5958, 0.8241, 0.6308],\n        [0.5935, 0.3138, 0.3709]])\n"
          ]
        }
      ]
    },
    {
      "cell_type": "code",
      "source": [
        "os.chdir('..')"
      ],
      "metadata": {
        "id": "qrn1mIoQycRg"
      },
      "execution_count": 7,
      "outputs": []
    },
    {
      "cell_type": "code",
      "source": [
        "os.chdir('openke')"
      ],
      "metadata": {
        "id": "B6Q0vwtkyJw3"
      },
      "execution_count": 9,
      "outputs": []
    },
    {
      "cell_type": "code",
      "execution_count": 19,
      "metadata": {},
      "outputs": [
        {
          "output_type": "stream",
          "name": "stdout",
          "text": [
            "xcode-select: error: command line tools are already installed, use \"Software Update\" in System Settings to install updates\n"
          ]
        }
      ],
      "source": [
        "#for mac , first time running\n",
        "# !xcode-select --install"
      ]
    },
    {
      "cell_type": "code",
      "source": [
        "!bash make.sh"
      ],
      "metadata": {
        "id": "w1oNFbKAxLPy",
        "colab": {
          "base_uri": "https://localhost:8080/"
        },
        "outputId": "4cc8d19a-75a9-437a-8afa-a562ced0a973",
        "tags": []
      },
      "execution_count": 66,
      "outputs": [
        {
          "output_type": "stream",
          "name": "stdout",
          "text": [
            "mkdir: release: File exists\n"
          ]
        }
      ]
    },
    {
      "cell_type": "code",
      "source": [
        "#!cp QuatETraining/train_quantE_SemConceptH.py ./\n",
        "!python train_quantE_SemConceptH.py"
      ],
      "metadata": {
        "colab": {
          "base_uri": "https://localhost:8080/"
        },
        "id": "Axtow77HxURY",
        "outputId": "16466ab3-27a7-4633-e07b-1f4d64a59c3f",
        "tags": []
      },
      "execution_count": 72,
      "outputs": [
        {
          "output_type": "stream",
          "name": "stdout",
          "text": [
            "Input Files Path : ./benchmarks/FB13/\n",
            "The toolkit is importing datasets.\n",
            "The total of relations is 2.\n",
            "The total of entities is 9301.\n",
            "The total of train triples is 7440.\n",
            "Input Files Path : ./benchmarks/FB13/\n",
            "The total of test triples is 930.\n",
            "The total of valid triples is 930.\n",
            "74\n",
            "Traceback (most recent call last):\n",
            "  File \"/Users/ozgeerten/Documents/GitHub/QuatEOpenKE/openke/train_quantE_SemConceptH.py\", line 39, in <module>\n",
            "    trainer.run()\n",
            "  File \"/Users/ozgeerten/Documents/GitHub/QuatEOpenKE/openke/config/Trainer.py\", line 58, in run\n",
            "    self.model.cuda()\n",
            "  File \"/Users/ozgeerten/miniconda3/lib/python3.9/site-packages/torch/nn/modules/module.py\", line 905, in cuda\n",
            "    return self._apply(lambda t: t.cuda(device))\n",
            "  File \"/Users/ozgeerten/miniconda3/lib/python3.9/site-packages/torch/nn/modules/module.py\", line 797, in _apply\n",
            "    module._apply(fn)\n",
            "  File \"/Users/ozgeerten/miniconda3/lib/python3.9/site-packages/torch/nn/modules/module.py\", line 797, in _apply\n",
            "    module._apply(fn)\n",
            "  File \"/Users/ozgeerten/miniconda3/lib/python3.9/site-packages/torch/nn/modules/module.py\", line 820, in _apply\n",
            "    param_applied = fn(param)\n",
            "  File \"/Users/ozgeerten/miniconda3/lib/python3.9/site-packages/torch/nn/modules/module.py\", line 905, in <lambda>\n",
            "    return self._apply(lambda t: t.cuda(device))\n",
            "  File \"/Users/ozgeerten/miniconda3/lib/python3.9/site-packages/torch/cuda/__init__.py\", line 239, in _lazy_init\n",
            "    raise AssertionError(\"Torch not compiled with CUDA enabled\")\n",
            "AssertionError: Torch not compiled with CUDA enabled\n"
          ]
        }
      ]
    },
    {
      "cell_type": "code",
      "execution_count": null,
      "metadata": {},
      "outputs": [],
      "source": []
    }
  ]
}