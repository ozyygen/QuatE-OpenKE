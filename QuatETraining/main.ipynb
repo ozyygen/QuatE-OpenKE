{
 "metadata": {
  "language_info": {
   "codemirror_mode": {
    "name": "ipython",
    "version": 3
   },
   "file_extension": ".py",
   "mimetype": "text/x-python",
   "name": "python",
   "nbconvert_exporter": "python",
   "pygments_lexer": "ipython3",
   "version": "3.7.0-final"
  },
  "orig_nbformat": 2,
  "kernelspec": {
   "name": "python3",
   "display_name": "Python 3.7.0 64-bit",
   "metadata": {
    "interpreter": {
     "hash": "e534e48711db4d1e1c48977d0d14ff85b1f16d41bcc4fdfd88268a329b3c9d66"
    }
   }
  }
 },
 "nbformat": 4,
 "nbformat_minor": 2,
 "cells": [
  {
   "source": [
    "# Clone the project"
   ],
   "cell_type": "markdown",
   "metadata": {}
  },
  {
   "cell_type": "code",
   "execution_count": null,
   "metadata": {},
   "outputs": [],
   "source": [
    "!git clone -b OpenKE-PyTorch https://github.com/ozyygen/QuatE-OpenKE.git --depth 1"
   ]
  },
  {
   "cell_type": "code",
   "execution_count": null,
   "metadata": {},
   "outputs": [],
   "source": [
    "import utils"
   ]
  },
  {
   "cell_type": "code",
   "execution_count": null,
   "metadata": {},
   "outputs": [],
   "source": [
    "#"
   ]
  },
  {
   "source": [
    "# Inconsistency checks\n",
    "\n",
    "Inconsistent connections will be defined and the links will be removed to prepare KG to the next link prediction step. After the link predicition, we expect to see the new links that persist consistency within the hierarchy."
   ],
   "cell_type": "markdown",
   "metadata": {}
  },
  {
   "source": [
    "** 1. Storing KG as a DataFrame **"
   ],
   "cell_type": "markdown",
   "metadata": {}
  },
  {
   "cell_type": "code",
   "execution_count": null,
   "metadata": {},
   "outputs": [],
   "source": [
    "df_medicine = utils.load_ttl_files(\"/content/results-10.ttl\")"
   ]
  },
  {
   "source": [
    "** 2. Inconsistency Detection **"
   ],
   "cell_type": "markdown",
   "metadata": {}
  },
  {
   "source": [
    "1. Clashes between associative links and hierarchical links:\n",
    "\n",
    "skos:related is a symmetric property, and skos:broaderTransitive and skos:narrowerTransitive are inverses, skos:related is therefore also disjoint with skos:narrowerTransitive.\n",
    "\n",
    "- Example:  \n",
    "            <ConceptA> skos:broader <ConceptB> ; \n",
    "            skos:related <ConceptB> .\n",
    "\n",
    "In the example above, the hierarchy is not consistent with the SKOS data model, because there is a clash between associative links and hierarchical links.\n",
    "\n",
    "- Example:\n",
    "      <A> skos:broader <B> ; \n",
    "      skos:related <C> .\n",
    "      <B> skos:broader <C> ."
   ],
   "cell_type": "markdown",
   "metadata": {}
  },
  {
   "cell_type": "code",
   "execution_count": null,
   "metadata": {},
   "outputs": [],
   "source": [
    "# check 1 example data\n",
    "data1 = {\n",
    "    's': ['A', 'A', 'B'],\n",
    "    'p': ['skos:broader', 'skos:related', 'skos:broader'],\n",
    "    'o': ['B', 'C', 'C']\n",
    "}\n",
    "\n",
    "df1 = pd.DataFrame(data1)\n",
    "\n",
    "data2 = {\n",
    "    's': ['A', 'A'],\n",
    "    'p': ['skos:broader', 'skos:related'],\n",
    "    'o': ['B', 'B']\n",
    "}\n",
    "\n",
    "df2 = pd.DataFrame(data2)\n",
    "\n",
    "data3 = {\n",
    "    's': ['A', 'A'],\n",
    "    'p': ['skos:broader', 'skos:broader'],\n",
    "    'o': ['B', 'D']\n",
    "}\n",
    "\n",
    "df3 = pd.DataFrame(data3)"
   ]
  },
  {
   "cell_type": "code",
   "execution_count": null,
   "metadata": {},
   "outputs": [],
   "source": [
    "check1 = utils.has_hierarcy_associative_clash(df1)\n",
    "check1"
   ]
  },
  {
   "cell_type": "code",
   "execution_count": null,
   "metadata": {},
   "outputs": [],
   "source": [
    "# check 2 example data\n",
    "data1 = {\n",
    "    's': ['A', 'B', 'A'],\n",
    "    'p': ['skos:broader', 'skos:broader', 'skos:broader'],\n",
    "    'o': ['B', 'C', 'C']\n",
    "}\n",
    "\n",
    "df1 = pd.DataFrame(data1)\n",
    "\n",
    "data2 = {\n",
    "    's': ['A', 'A'],\n",
    "    'p': ['skos:broader', 'skos:broader'],\n",
    "    'o': ['B', 'D']\n",
    "}\n",
    "\n",
    "df2 = pd.DataFrame(data2)"
   ]
  },
  {
   "cell_type": "code",
   "execution_count": null,
   "metadata": {},
   "outputs": [],
   "source": [
    "check2 = utils.has_transitive(df1)\n",
    "check2"
   ]
  },
  {
   "source": [
    "** 3. Inconsistent Link Removal **"
   ],
   "cell_type": "markdown",
   "metadata": {}
  },
  {
   "cell_type": "code",
   "execution_count": null,
   "metadata": {},
   "outputs": [],
   "source": []
  },
  {
   "source": [
    "# QuatE Implementation\n",
    "---\n",
    "\n",
    "\n"
   ],
   "cell_type": "markdown",
   "metadata": {}
  },
  {
   "source": [
    "1. Train, test and valid sets\n",
    "\n",
    "Train set is enhanced by True path rule and inverse relation data augmentation.\n",
    "\n",
    "Inverse relations will be added such as < teacher teachTo student > inverse is < student learnBy teacher >"
   ],
   "cell_type": "markdown",
   "metadata": {}
  },
  {
   "cell_type": "code",
   "execution_count": null,
   "metadata": {},
   "outputs": [],
   "source": []
  },
  {
   "source": [
    "**OpenKE**"
   ],
   "cell_type": "markdown",
   "metadata": {}
  },
  {
   "cell_type": "code",
   "execution_count": null,
   "metadata": {},
   "outputs": [],
   "source": [
    "!pip3 install torch torchvision"
   ]
  },
  {
   "cell_type": "code",
   "execution_count": null,
   "metadata": {},
   "outputs": [],
   "source": [
    "import torch\n",
    "import os\n",
    "x = torch.rand(5, 3)\n",
    "print(x)"
   ]
  },
  {
   "cell_type": "code",
   "execution_count": null,
   "metadata": {},
   "outputs": [],
   "source": [
    "os.chdir('QuatE-OpenKE')\n",
    "os.chdir('openke') "
   ]
  },
  {
   "cell_type": "code",
   "execution_count": null,
   "metadata": {},
   "outputs": [],
   "source": [
    "!bash make.sh"
   ]
  },
  {
   "cell_type": "code",
   "execution_count": null,
   "metadata": {},
   "outputs": [],
   "source": [
    "os.chdir('../')"
   ]
  },
  {
   "cell_type": "code",
   "execution_count": null,
   "metadata": {},
   "outputs": [],
   "source": [
    "!cp QuatE-training/train_quantE_SemConceptH.py ./\n",
    "!python train_quantE_SemConceptH.py"
   ]
  }
 ]
}